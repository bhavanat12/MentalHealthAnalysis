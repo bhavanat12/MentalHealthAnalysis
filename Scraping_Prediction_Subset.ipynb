{
  "nbformat": 4,
  "nbformat_minor": 0,
  "metadata": {
    "colab": {
      "provenance": []
    },
    "kernelspec": {
      "name": "python3",
      "display_name": "Python 3"
    },
    "language_info": {
      "name": "python"
    }
  },
  "cells": [
    {
      "cell_type": "code",
      "source": [
        "import nltk\n",
        "\n",
        "# Download the VADER lexicon\n",
        "nltk.download('vader_lexicon')"
      ],
      "metadata": {
        "colab": {
          "base_uri": "https://localhost:8080/"
        },
        "id": "59z871QQRcda",
        "outputId": "f8dfd1e8-d414-498e-bf38-d5b3d7ffb572"
      },
      "execution_count": null,
      "outputs": [
        {
          "output_type": "stream",
          "name": "stderr",
          "text": [
            "[nltk_data] Downloading package vader_lexicon to /root/nltk_data...\n"
          ]
        },
        {
          "output_type": "execute_result",
          "data": {
            "text/plain": [
              "True"
            ]
          },
          "metadata": {},
          "execution_count": 2
        }
      ]
    },
    {
      "cell_type": "code",
      "source": [
        "import praw\n",
        "import time\n",
        "from kafka import KafkaProducer\n",
        "from nltk.sentiment.vader import SentimentIntensityAnalyzer\n",
        "\n",
        "# Initialize the Reddit API client\n",
        "reddit = praw.Reddit(\n",
        "    client_id='<CLIENT ID>',\n",
        "    client_secret='<CLIENT SECRET>',\n",
        "    user_agent='<APP AGENT>'\n",
        ")\n",
        "\n",
        "# Specify the subreddit you want to monitor\n",
        "subreddit_name = \"depression\"\n",
        "subreddit = reddit.subreddit(subreddit_name)\n",
        "\n",
        "# Initialize the VADER sentiment analyzer\n",
        "sia = SentimentIntensityAnalyzer()"
      ],
      "metadata": {
        "id": "5tkpMoVG8oE5"
      },
      "execution_count": null,
      "outputs": []
    },
    {
      "cell_type": "code",
      "source": [
        "# Format submission post\n",
        "def format_submission(submission):\n",
        "    formatted_sub = {\n",
        "        'id': submission.id,\n",
        "        'title': submission.title,\n",
        "        'text': submission.selftext,\n",
        "        'link': 'https://www.reddit.com{}'.format(submission.permalink),\n",
        "        'subreddit': submission.subreddit.display_name,\n",
        "        'type': 'submission'\n",
        "    }\n",
        "\n",
        "    return formatted_sub"
      ],
      "metadata": {
        "id": "D0c_fjxR8lDI"
      },
      "execution_count": null,
      "outputs": []
    },
    {
      "cell_type": "code",
      "source": [
        "# Define a function to perform sentiment analysis on a given text\n",
        "def analyze_sentiment(text):\n",
        "    # Use the VADER sentiment analyzer\n",
        "    sentiment_scores = sia.polarity_scores(text)\n",
        "\n",
        "    # Classify based on compound score (customize the threshold as needed)\n",
        "    if sentiment_scores['compound'] >= 0.2:\n",
        "        return 'Positive'\n",
        "    elif sentiment_scores['compound'] <= -0.2:\n",
        "        return 'Negative'\n",
        "    else:\n",
        "        return 'Neutral'"
      ],
      "metadata": {
        "id": "uPhj7rWjRkJm"
      },
      "execution_count": null,
      "outputs": []
    },
    {
      "cell_type": "code",
      "source": [
        "# Define a function to fetch and process Reddit data\n",
        "def fetch_reddit_data(last_processed_submission_id=None):\n",
        "    try:\n",
        "        # Retrieve submissions from the subreddit\n",
        "        submissions = subreddit.new(limit=5, params={'after': f't3_{last_processed_submission_id}'})  # Example: Fetch the 5 newest submissions\n",
        "\n",
        "        # Process and analyze the data as needed\n",
        "        for submission in submissions:\n",
        "            # print(submission.title + \": \")\n",
        "            sub = format_submission(submission)\n",
        "            print(sub)\n",
        "\n",
        "            author = submission.author\n",
        "            if author:\n",
        "                print(\"Author:\", author.name)\n",
        "\n",
        "            #Perform sentiment analysis on the submission title\n",
        "            sentiment = analyze_sentiment(sub['text'])\n",
        "            print(\"Sentiment:\", sentiment)\n",
        "\n",
        "            # if sentiment == 'Negative':\n",
        "            #       send_dm_to_author(author.name, \"Your post has been classified as negative. If you need assistance, please reach out.\")\n",
        "            # print(submission.selftext)\n",
        "\n",
        "    except Exception as e:\n",
        "        print(\"An error occurred: {}\".format(e))\n",
        "\n",
        "    return last_processed_submission_id\n"
      ],
      "metadata": {
        "id": "0VmD6YVUUale"
      },
      "execution_count": null,
      "outputs": []
    },
    {
      "cell_type": "code",
      "source": [
        "# Define the polling interval in seconds (e.g., 1 hour = 3600 seconds)\n",
        "polling_interval = 3600\n",
        "\n",
        "# Periodically fetch Reddit data\n",
        "while True:\n",
        "    fetch_reddit_data()\n",
        "    #time.sleep(polling_interval)\n",
        "    break"
      ],
      "metadata": {
        "colab": {
          "base_uri": "https://localhost:8080/"
        },
        "id": "-sW_1zx2A63L",
        "outputId": "7ebd9166-8fcc-4948-bfa0-fcb995b4f4fe"
      },
      "execution_count": null,
      "outputs": [
        {
          "output_type": "stream",
          "name": "stderr",
          "text": [
            "WARNING:praw:It appears that you are using PRAW in an asynchronous environment.\n",
            "It is strongly recommended to use Async PRAW: https://asyncpraw.readthedocs.io.\n",
            "See https://praw.readthedocs.io/en/latest/getting_started/multiple_instances.html#discord-bots-and-asynchronous-environments for more info.\n",
            "\n"
          ]
        },
        {
          "output_type": "stream",
          "name": "stdout",
          "text": [
            "{'id': '18bdvcr', 'title': 'I am not mentally well', 'text': 'I feel like my sanity is slowly slipping away. Work, bills, life everything is chipping my mind down constantly. I have a medication and maybe I need more but I have no psychiatrist right now because mine moved. \\n\\n\\nI feel like I just need to escape all people for a month or two I wish I could actually do this', 'link': 'https://www.reddit.com/r/depression/comments/18bdvcr/i_am_not_mentally_well/', 'subreddit': 'depression', 'type': 'submission'}\n",
            "Author: danielj1632\n",
            "Sentiment: Positive\n",
            "{'id': '18bdsuu', 'title': '\"Just your imagination.\"', 'text': 'I\\'m a 31M and diagnosed with Major Depressive Disorder, Generalized Anxiety Disorder, Social Anxiety Disorder, Autism, and Dysthymia. I\\'ve been hospitalized in a psych ward four times since 2016. I also have a moderate to severe stutter.\\n\\nMy current psychiatrist told me that my mental health issues are just my \"imagination\" and \"all in my head\" and things aren\\'t that bad. She offered me advice like \"play video games\" and \"watch TV\". \\n\\nNot only am I struggling with my mental health, but I\\'m struggling as a human being. I did not know I had autism until 2017 and it explains a lot about why I am the way I am. I\\'ve only dated once. I have no idea how to make friends. People have called me weird and other names since I was a child. They still do. I get overwhelmed easily in certain situations.\\n\\nI\\'ve never received any kind of treatment for my autism despite asking. I\\'m a veteran and get my health care at the veterans hospital. I can\\'t afford health insurance. I can barely afford to survive, which is another cause of stress. But my psychiatrist seems to think everything is fine and even considered that I want to be depressed. No one who is truly depressed wants to be depressed. This is hell. \\n\\nShe doesn\\'t seem to take my autism diagnosis seriously either even though the VA diagnosed me. She doesn\\'t seem to take me very seriously in general. I want civilian healthcare because there are more doctors specialized in non-military related mental issues, but my financial situation has been wrecked for years now.', 'link': 'https://www.reddit.com/r/depression/comments/18bdsuu/just_your_imagination/', 'subreddit': 'depression', 'type': 'submission'}\n",
            "Author: Hollovates\n",
            "Sentiment: Negative\n",
            "{'id': '18bds8c', 'title': '\"Just your imagination.\"', 'text': 'I\\'m a 31M and diagnosed with Major Depressive Disorder, Generalized Anxiety Disorder, Social Anxiety Disorder, Autism, and Dysthymia. I\\'ve been hospitalized in a psych ward four times since 2016. I also have a moderate to severe stutter.\\n\\nMy current psychiatrist told me that my mental health issues are just my \"imagination\" and \"all in my head\" and things aren\\'t that bad. She offered me advice like \"play video games\" and \"watch TV\". \\n\\nNot only am I struggling with my mental health, but I\\'m struggling as a human being. I did not know I had autism until 2017 and it explains a lot about why I am the way I am. I\\'ve only dated once. I have no idea how to make friends. People have called me weird and other names since I was a child. They still do. I get overwhelmed easily in certain situations.\\n\\nI\\'ve never received any kind of treatment for my autism despite asking. I\\'m a veteran and get my health care at the veterans hospital. I can\\'t afford health insurance. I can barely afford to survive, which is another cause of stress. But my psychiatrist seems to think everything is fine and even considered that I want to be depressed. No one who is truly depressed wants to be depressed. This is hell. \\n\\nShe doesn\\'t seem to take my autism diagnosis seriously either even though the VA diagnosed me. She doesn\\'t seem to take me very seriously in general. I want civilian healthcare because there are more doctors specialized in non-military related mental issues, but my financial situation has been wrecked for years now.', 'link': 'https://www.reddit.com/r/depression/comments/18bds8c/just_your_imagination/', 'subreddit': 'depression', 'type': 'submission'}\n",
            "Author: Hollovates\n",
            "Sentiment: Negative\n",
            "{'id': '18arl6d', 'title': 'Depression is real', 'text': \"I have going thru depression I've been wanting to check into the hospital however I don't have anyone to care for my furbabies. I have a history of suicide attempts. And i am really overwhelmed\", 'link': 'https://www.reddit.com/r/depression/comments/18arl6d/depression_is_real/', 'subreddit': 'depression', 'type': 'submission'}\n",
            "Author: Mrsmnb314\n",
            "Sentiment: Negative\n",
            "{'id': '18aocjs', 'title': 'I\\'m \"better,\" but still having the same thoughts and feelings', 'text': \"Last year, I had a depressive episode that lasted \\\\~6 months. It was the worst of my life. I didn't want to be alive anymore.\\n\\nI'm doing much better now thanks to TMS therapy and perfecting an Rx cocktail with my psychiatrist (plus a lot of therapy and healing work), but I still generally think and feel the same way that I did then.\\n\\nFor example, I dread working, especially in the context of late-stage capitalism. I still find life mundane and monotonous for the most part. I look forward to vacations and events, but have trouble adjusting once normality kicks back in.\\n\\nI'm committed to my workout routine, but I'd rather be on the couch or asleep. I read, but I'm not as engaged or enamored with it as I once was. I cook healthy meals, but I crave junk food. I don't drink anymore, but I always wish I could numb myself.\\n\\nCan anyone else relate? I just fear that I'll always think and feel this way.\", 'link': 'https://www.reddit.com/r/depression/comments/18aocjs/im_better_but_still_having_the_same_thoughts_and/', 'subreddit': 'depression', 'type': 'submission'}\n",
            "Author: MyOnlyVans\n",
            "Sentiment: Negative\n"
          ]
        }
      ]
    },
    {
      "cell_type": "code",
      "source": [],
      "metadata": {
        "id": "Bb6CpIqEfJT6"
      },
      "execution_count": null,
      "outputs": []
    }
  ]
}